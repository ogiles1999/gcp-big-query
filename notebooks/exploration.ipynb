{
 "cells": [
  {
   "cell_type": "code",
   "execution_count": 1,
   "id": "46f016e1-cf76-4b27-8506-94799887462c",
   "metadata": {},
   "outputs": [
    {
     "name": "stdout",
     "output_type": "stream",
     "text": [
      "Requirement already satisfied: google-cloud-bigquery in /home/oliver/.conda/envs/machine-learning/lib/python3.8/site-packages (2.34.2)\n",
      "Requirement already satisfied: python-dateutil<3.0dev,>=2.7.2 in /home/oliver/.conda/envs/machine-learning/lib/python3.8/site-packages (from google-cloud-bigquery) (2.8.2)\n",
      "Requirement already satisfied: google-api-core[grpc]!=2.0.*,!=2.1.*,!=2.2.*,!=2.3.0,<3.0.0dev,>=1.31.5 in /home/oliver/.conda/envs/machine-learning/lib/python3.8/site-packages (from google-cloud-bigquery) (2.5.0)\n",
      "Requirement already satisfied: proto-plus>=1.15.0 in /home/oliver/.conda/envs/machine-learning/lib/python3.8/site-packages (from google-cloud-bigquery) (1.20.3)\n",
      "Requirement already satisfied: google-resumable-media<3.0dev,>=0.6.0 in /home/oliver/.conda/envs/machine-learning/lib/python3.8/site-packages (from google-cloud-bigquery) (2.2.1)\n",
      "Requirement already satisfied: google-cloud-core<3.0.0dev,>=1.4.1 in /home/oliver/.conda/envs/machine-learning/lib/python3.8/site-packages (from google-cloud-bigquery) (2.2.2)\n",
      "Requirement already satisfied: packaging>=14.3 in /home/oliver/.conda/envs/machine-learning/lib/python3.8/site-packages (from google-cloud-bigquery) (21.3)\n",
      "Requirement already satisfied: requests<3.0.0dev,>=2.18.0 in /home/oliver/.conda/envs/machine-learning/lib/python3.8/site-packages (from google-cloud-bigquery) (2.27.1)\n",
      "Requirement already satisfied: grpcio<2.0dev,>=1.38.1 in /home/oliver/.conda/envs/machine-learning/lib/python3.8/site-packages (from google-cloud-bigquery) (1.44.0)\n",
      "Requirement already satisfied: protobuf>=3.12.0 in /home/oliver/.conda/envs/machine-learning/lib/python3.8/site-packages (from google-cloud-bigquery) (3.19.4)\n",
      "Requirement already satisfied: googleapis-common-protos<2.0dev,>=1.52.0 in /home/oliver/.conda/envs/machine-learning/lib/python3.8/site-packages (from google-api-core[grpc]!=2.0.*,!=2.1.*,!=2.2.*,!=2.3.0,<3.0.0dev,>=1.31.5->google-cloud-bigquery) (1.54.0)\n",
      "Requirement already satisfied: google-auth<3.0dev,>=1.25.0 in /home/oliver/.conda/envs/machine-learning/lib/python3.8/site-packages (from google-api-core[grpc]!=2.0.*,!=2.1.*,!=2.2.*,!=2.3.0,<3.0.0dev,>=1.31.5->google-cloud-bigquery) (2.6.0)\n",
      "Requirement already satisfied: grpcio-status<2.0dev,>=1.33.2 in /home/oliver/.conda/envs/machine-learning/lib/python3.8/site-packages (from google-api-core[grpc]!=2.0.*,!=2.1.*,!=2.2.*,!=2.3.0,<3.0.0dev,>=1.31.5->google-cloud-bigquery) (1.44.0)\n",
      "Requirement already satisfied: google-crc32c<2.0dev,>=1.0 in /home/oliver/.conda/envs/machine-learning/lib/python3.8/site-packages (from google-resumable-media<3.0dev,>=0.6.0->google-cloud-bigquery) (1.3.0)\n",
      "Requirement already satisfied: six>=1.5.2 in /home/oliver/.conda/envs/machine-learning/lib/python3.8/site-packages (from grpcio<2.0dev,>=1.38.1->google-cloud-bigquery) (1.14.0)\n",
      "Requirement already satisfied: pyparsing!=3.0.5,>=2.0.2 in /home/oliver/.conda/envs/machine-learning/lib/python3.8/site-packages (from packaging>=14.3->google-cloud-bigquery) (3.0.7)\n",
      "Requirement already satisfied: urllib3<1.27,>=1.21.1 in /home/oliver/.conda/envs/machine-learning/lib/python3.8/site-packages (from requests<3.0.0dev,>=2.18.0->google-cloud-bigquery) (1.26.8)\n",
      "Requirement already satisfied: charset-normalizer~=2.0.0 in /home/oliver/.conda/envs/machine-learning/lib/python3.8/site-packages (from requests<3.0.0dev,>=2.18.0->google-cloud-bigquery) (2.0.10)\n",
      "Requirement already satisfied: idna<4,>=2.5 in /home/oliver/.conda/envs/machine-learning/lib/python3.8/site-packages (from requests<3.0.0dev,>=2.18.0->google-cloud-bigquery) (3.3)\n",
      "Requirement already satisfied: certifi>=2017.4.17 in /home/oliver/.conda/envs/machine-learning/lib/python3.8/site-packages (from requests<3.0.0dev,>=2.18.0->google-cloud-bigquery) (2021.10.8)\n",
      "Requirement already satisfied: cachetools<6.0,>=2.0.0 in /home/oliver/.conda/envs/machine-learning/lib/python3.8/site-packages (from google-auth<3.0dev,>=1.25.0->google-api-core[grpc]!=2.0.*,!=2.1.*,!=2.2.*,!=2.3.0,<3.0.0dev,>=1.31.5->google-cloud-bigquery) (5.0.0)\n",
      "Requirement already satisfied: pyasn1-modules>=0.2.1 in /home/oliver/.conda/envs/machine-learning/lib/python3.8/site-packages (from google-auth<3.0dev,>=1.25.0->google-api-core[grpc]!=2.0.*,!=2.1.*,!=2.2.*,!=2.3.0,<3.0.0dev,>=1.31.5->google-cloud-bigquery) (0.2.8)\n",
      "Requirement already satisfied: rsa<5,>=3.1.4 in /home/oliver/.conda/envs/machine-learning/lib/python3.8/site-packages (from google-auth<3.0dev,>=1.25.0->google-api-core[grpc]!=2.0.*,!=2.1.*,!=2.2.*,!=2.3.0,<3.0.0dev,>=1.31.5->google-cloud-bigquery) (4.8)\n",
      "Requirement already satisfied: pyasn1<0.5.0,>=0.4.6 in /home/oliver/.conda/envs/machine-learning/lib/python3.8/site-packages (from pyasn1-modules>=0.2.1->google-auth<3.0dev,>=1.25.0->google-api-core[grpc]!=2.0.*,!=2.1.*,!=2.2.*,!=2.3.0,<3.0.0dev,>=1.31.5->google-cloud-bigquery) (0.4.8)\n"
     ]
    }
   ],
   "source": [
    "!pip install --upgrade google-cloud-bigquery"
   ]
  },
  {
   "cell_type": "code",
   "execution_count": 1,
   "id": "d77f605e-6940-4969-b994-957e4a9791b5",
   "metadata": {},
   "outputs": [],
   "source": [
    "from google.cloud import bigquery\n",
    "import pandas as pd"
   ]
  },
  {
   "cell_type": "code",
   "execution_count": null,
   "id": "1b59caf0-430c-4119-af7d-e8245e8cbda2",
   "metadata": {},
   "outputs": [],
   "source": []
  },
  {
   "cell_type": "code",
   "execution_count": 2,
   "id": "8c537832-b436-4c9b-93cf-5b85ec696192",
   "metadata": {},
   "outputs": [],
   "source": [
    "client = bigquery.Client()"
   ]
  },
  {
   "cell_type": "code",
   "execution_count": 8,
   "id": "f7483b78-c630-45c6-b0e1-a5dac68e2820",
   "metadata": {},
   "outputs": [],
   "source": [
    "query =\"\"\"\n",
    "SELECT\n",
    "  CONCAT(\n",
    "    'https://stackoverflow.com/questions/',\n",
    "    CAST(id as STRING)) as url,\n",
    "  view_count\n",
    "FROM `bigquery-public-data.stackoverflow.posts_questions`\n",
    "WHERE tags like '%google-bigquery%'\n",
    "ORDER BY view_count DESC\n",
    "LIMIT 10\"\"\""
   ]
  },
  {
   "cell_type": "code",
   "execution_count": 9,
   "id": "2db4399b-25ca-424c-bb5b-1ff17831e1f1",
   "metadata": {},
   "outputs": [],
   "source": [
    "query_job = client.query(query)\n",
    "\n",
    "results = query_job.result()"
   ]
  },
  {
   "cell_type": "code",
   "execution_count": 5,
   "id": "53c97705-28ef-4509-9add-1bbdfc7c04e2",
   "metadata": {},
   "outputs": [
    {
     "data": {
      "text/plain": [
       "<google.cloud.bigquery.table.RowIterator at 0x7fa57aa40970>"
      ]
     },
     "execution_count": 5,
     "metadata": {},
     "output_type": "execute_result"
    }
   ],
   "source": [
    "results"
   ]
  },
  {
   "cell_type": "code",
   "execution_count": 6,
   "id": "c806e88d-ea16-4bdd-9ec2-17956ca5bccf",
   "metadata": {},
   "outputs": [
    {
     "name": "stdout",
     "output_type": "stream",
     "text": [
      "https://stackoverflow.com/questions/35159967 : 123154 views\n",
      "https://stackoverflow.com/questions/22879669 : 117449 views\n",
      "https://stackoverflow.com/questions/10604135 : 108330 views\n",
      "https://stackoverflow.com/questions/27060396 : 92874 views\n",
      "https://stackoverflow.com/questions/44564887 : 87964 views\n",
      "https://stackoverflow.com/questions/11057219 : 85286 views\n",
      "https://stackoverflow.com/questions/12482637 : 81533 views\n",
      "https://stackoverflow.com/questions/39109817 : 80872 views\n",
      "https://stackoverflow.com/questions/20673986 : 76042 views\n",
      "https://stackoverflow.com/questions/43195143 : 75185 views\n"
     ]
    }
   ],
   "source": [
    "for row in results:\n",
    "    print(\"{} : {} views\".format(row.url, row.view_count))"
   ]
  },
  {
   "cell_type": "code",
   "execution_count": 10,
   "id": "69338f9f-ff84-4745-9c32-c5533dd7e6c8",
   "metadata": {},
   "outputs": [],
   "source": [
    "df = results.to_dataframe()"
   ]
  },
  {
   "cell_type": "code",
   "execution_count": 11,
   "id": "d762f142-0f1a-424d-b820-8ea51be17079",
   "metadata": {},
   "outputs": [
    {
     "data": {
      "text/html": [
       "<div>\n",
       "<style scoped>\n",
       "    .dataframe tbody tr th:only-of-type {\n",
       "        vertical-align: middle;\n",
       "    }\n",
       "\n",
       "    .dataframe tbody tr th {\n",
       "        vertical-align: top;\n",
       "    }\n",
       "\n",
       "    .dataframe thead th {\n",
       "        text-align: right;\n",
       "    }\n",
       "</style>\n",
       "<table border=\"1\" class=\"dataframe\">\n",
       "  <thead>\n",
       "    <tr style=\"text-align: right;\">\n",
       "      <th></th>\n",
       "      <th>url</th>\n",
       "      <th>view_count</th>\n",
       "    </tr>\n",
       "  </thead>\n",
       "  <tbody>\n",
       "    <tr>\n",
       "      <th>0</th>\n",
       "      <td>https://stackoverflow.com/questions/35159967</td>\n",
       "      <td>123154</td>\n",
       "    </tr>\n",
       "    <tr>\n",
       "      <th>1</th>\n",
       "      <td>https://stackoverflow.com/questions/22879669</td>\n",
       "      <td>117449</td>\n",
       "    </tr>\n",
       "    <tr>\n",
       "      <th>2</th>\n",
       "      <td>https://stackoverflow.com/questions/10604135</td>\n",
       "      <td>108330</td>\n",
       "    </tr>\n",
       "    <tr>\n",
       "      <th>3</th>\n",
       "      <td>https://stackoverflow.com/questions/27060396</td>\n",
       "      <td>92874</td>\n",
       "    </tr>\n",
       "    <tr>\n",
       "      <th>4</th>\n",
       "      <td>https://stackoverflow.com/questions/44564887</td>\n",
       "      <td>87964</td>\n",
       "    </tr>\n",
       "    <tr>\n",
       "      <th>5</th>\n",
       "      <td>https://stackoverflow.com/questions/11057219</td>\n",
       "      <td>85286</td>\n",
       "    </tr>\n",
       "    <tr>\n",
       "      <th>6</th>\n",
       "      <td>https://stackoverflow.com/questions/12482637</td>\n",
       "      <td>81533</td>\n",
       "    </tr>\n",
       "    <tr>\n",
       "      <th>7</th>\n",
       "      <td>https://stackoverflow.com/questions/39109817</td>\n",
       "      <td>80872</td>\n",
       "    </tr>\n",
       "    <tr>\n",
       "      <th>8</th>\n",
       "      <td>https://stackoverflow.com/questions/20673986</td>\n",
       "      <td>76042</td>\n",
       "    </tr>\n",
       "    <tr>\n",
       "      <th>9</th>\n",
       "      <td>https://stackoverflow.com/questions/43195143</td>\n",
       "      <td>75185</td>\n",
       "    </tr>\n",
       "  </tbody>\n",
       "</table>\n",
       "</div>"
      ],
      "text/plain": [
       "                                            url  view_count\n",
       "0  https://stackoverflow.com/questions/35159967      123154\n",
       "1  https://stackoverflow.com/questions/22879669      117449\n",
       "2  https://stackoverflow.com/questions/10604135      108330\n",
       "3  https://stackoverflow.com/questions/27060396       92874\n",
       "4  https://stackoverflow.com/questions/44564887       87964\n",
       "5  https://stackoverflow.com/questions/11057219       85286\n",
       "6  https://stackoverflow.com/questions/12482637       81533\n",
       "7  https://stackoverflow.com/questions/39109817       80872\n",
       "8  https://stackoverflow.com/questions/20673986       76042\n",
       "9  https://stackoverflow.com/questions/43195143       75185"
      ]
     },
     "execution_count": 11,
     "metadata": {},
     "output_type": "execute_result"
    }
   ],
   "source": [
    "df"
   ]
  },
  {
   "cell_type": "code",
   "execution_count": 14,
   "id": "2afd1551-2b0e-4239-8751-80827a71e2f9",
   "metadata": {},
   "outputs": [],
   "source": [
    "import subprocess"
   ]
  },
  {
   "cell_type": "code",
   "execution_count": 42,
   "id": "b48f87bc-6ff4-4e72-8b20-b9ae8c463f37",
   "metadata": {},
   "outputs": [],
   "source": [
    "cmd = (\"\"\"bq --format=csv query \\\n",
    "--max_rows=10000 \\\n",
    "--use_legacy_sql=false \\\n",
    "'\n",
    "SELECT \n",
    "    CONCAT(\"https://stackoverflow.com/questions/\"\n",
    "    , CAST(id as STRING)) as url\n",
    "    , view_count\n",
    "FROM `bigquery-public-data.stackoverflow.posts_questions`\n",
    "WHERE tags like \"%google-bigquery%\"\n",
    "ORDER BY view_count DESC\n",
    "LIMIT 10\n",
    "' > output.csv\n",
    "\"\"\")"
   ]
  },
  {
   "cell_type": "code",
   "execution_count": 43,
   "id": "9b922565-4251-4a20-a7fc-00d12daad8d8",
   "metadata": {},
   "outputs": [
    {
     "data": {
      "text/plain": [
       "0"
      ]
     },
     "execution_count": 43,
     "metadata": {},
     "output_type": "execute_result"
    }
   ],
   "source": [
    "subprocess.call(cmd, shell=True)"
   ]
  },
  {
   "cell_type": "code",
   "execution_count": 44,
   "id": "a2fc7c78-5ffd-4aa2-a525-41a1fdbd8753",
   "metadata": {},
   "outputs": [
    {
     "data": {
      "text/html": [
       "<div>\n",
       "<style scoped>\n",
       "    .dataframe tbody tr th:only-of-type {\n",
       "        vertical-align: middle;\n",
       "    }\n",
       "\n",
       "    .dataframe tbody tr th {\n",
       "        vertical-align: top;\n",
       "    }\n",
       "\n",
       "    .dataframe thead th {\n",
       "        text-align: right;\n",
       "    }\n",
       "</style>\n",
       "<table border=\"1\" class=\"dataframe\">\n",
       "  <thead>\n",
       "    <tr style=\"text-align: right;\">\n",
       "      <th></th>\n",
       "      <th>url</th>\n",
       "      <th>view_count</th>\n",
       "    </tr>\n",
       "  </thead>\n",
       "  <tbody>\n",
       "    <tr>\n",
       "      <th>0</th>\n",
       "      <td>https://stackoverflow.com/questions/35159967</td>\n",
       "      <td>123154</td>\n",
       "    </tr>\n",
       "    <tr>\n",
       "      <th>1</th>\n",
       "      <td>https://stackoverflow.com/questions/22879669</td>\n",
       "      <td>117449</td>\n",
       "    </tr>\n",
       "    <tr>\n",
       "      <th>2</th>\n",
       "      <td>https://stackoverflow.com/questions/10604135</td>\n",
       "      <td>108330</td>\n",
       "    </tr>\n",
       "    <tr>\n",
       "      <th>3</th>\n",
       "      <td>https://stackoverflow.com/questions/27060396</td>\n",
       "      <td>92874</td>\n",
       "    </tr>\n",
       "    <tr>\n",
       "      <th>4</th>\n",
       "      <td>https://stackoverflow.com/questions/44564887</td>\n",
       "      <td>87964</td>\n",
       "    </tr>\n",
       "    <tr>\n",
       "      <th>5</th>\n",
       "      <td>https://stackoverflow.com/questions/11057219</td>\n",
       "      <td>85286</td>\n",
       "    </tr>\n",
       "    <tr>\n",
       "      <th>6</th>\n",
       "      <td>https://stackoverflow.com/questions/12482637</td>\n",
       "      <td>81533</td>\n",
       "    </tr>\n",
       "    <tr>\n",
       "      <th>7</th>\n",
       "      <td>https://stackoverflow.com/questions/39109817</td>\n",
       "      <td>80872</td>\n",
       "    </tr>\n",
       "    <tr>\n",
       "      <th>8</th>\n",
       "      <td>https://stackoverflow.com/questions/20673986</td>\n",
       "      <td>76042</td>\n",
       "    </tr>\n",
       "    <tr>\n",
       "      <th>9</th>\n",
       "      <td>https://stackoverflow.com/questions/43195143</td>\n",
       "      <td>75185</td>\n",
       "    </tr>\n",
       "  </tbody>\n",
       "</table>\n",
       "</div>"
      ],
      "text/plain": [
       "                                            url  view_count\n",
       "0  https://stackoverflow.com/questions/35159967      123154\n",
       "1  https://stackoverflow.com/questions/22879669      117449\n",
       "2  https://stackoverflow.com/questions/10604135      108330\n",
       "3  https://stackoverflow.com/questions/27060396       92874\n",
       "4  https://stackoverflow.com/questions/44564887       87964\n",
       "5  https://stackoverflow.com/questions/11057219       85286\n",
       "6  https://stackoverflow.com/questions/12482637       81533\n",
       "7  https://stackoverflow.com/questions/39109817       80872\n",
       "8  https://stackoverflow.com/questions/20673986       76042\n",
       "9  https://stackoverflow.com/questions/43195143       75185"
      ]
     },
     "execution_count": 44,
     "metadata": {},
     "output_type": "execute_result"
    }
   ],
   "source": [
    "df = pd.read_csv(\"output.csv\")\n",
    "df"
   ]
  },
  {
   "cell_type": "code",
   "execution_count": null,
   "id": "6c66e3ef-9aa8-4eee-9a9f-4498810a6ac5",
   "metadata": {},
   "outputs": [],
   "source": []
  }
 ],
 "metadata": {
  "kernelspec": {
   "display_name": "Python 3 (ipykernel)",
   "language": "python",
   "name": "python3"
  },
  "language_info": {
   "codemirror_mode": {
    "name": "ipython",
    "version": 3
   },
   "file_extension": ".py",
   "mimetype": "text/x-python",
   "name": "python",
   "nbconvert_exporter": "python",
   "pygments_lexer": "ipython3",
   "version": "3.8.12"
  }
 },
 "nbformat": 4,
 "nbformat_minor": 5
}
